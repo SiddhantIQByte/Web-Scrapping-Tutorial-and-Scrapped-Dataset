{
 "cells": [
  {
   "cell_type": "code",
   "execution_count": 2,
   "id": "f03e8bda",
   "metadata": {},
   "outputs": [],
   "source": [
    "from bs4 import BeautifulSoup\n",
    "import requests\n",
    "import re"
   ]
  },
  {
   "cell_type": "code",
   "execution_count": 3,
   "id": "e7d562da",
   "metadata": {},
   "outputs": [
    {
     "name": "stdout",
     "output_type": "stream",
     "text": [
      "['movie/The_Breach-14229154', 'movie/Justice_League_Warworld-27687527', 'movie/Aval_Appadithaan-275205', 'movie/Kaazhcha-425162', 'movie/The_Inbetweeners-1716772', 'movie/Love_Object-328077', 'movie/May-December-January-22600514', 'movie/Kevin_Hart_Reality_Check-28227488', 'movie/Hama_no_asahi_no_usotsukidomo_to-16979594', 'movie/Arc-14663456', 'movie/Invisible_Waves-461970', 'movie/A_Night_to_Remember-241535', 'movie/JLA_Adventures_Trapped_in_Time-3468260', 'movie/Rollover-83006', 'movie/Douze_heures_dhorloge-52757', 'movie/Nipernaadi-239722', 'movie/Nadodikkattu-282778', 'movie/Pattanapravesam-292174', 'movie/Akka_Thangai-8908240', 'movie/Smokin_on_the_Moon-5872258', 'movie/The_Little_Vampire_3D-4729560', 'movie/National_Theatre_Live_Medea-4256612', 'movie/Blind-5316648', 'movie/Storytelling-250081', 'movie/Pookkal_Vidum_Thoodhu-8702688', 'movie/The_Play_of_God-199669', 'movie/Chemmeen-59028', 'movie/The_Scorpion_Monster-21808438', 'movie/Chakravyuham_The_Trap-27906902', 'movie/Bewafaa-363472']\n"
     ]
    }
   ],
   "source": [
    "\n",
    "root ='https://subslikescript.com/movies'\n",
    "website = f'{root}'\n",
    "result = requests.get(website)\n",
    "content= result.text\n",
    "soup = BeautifulSoup(content, 'lxml')\n",
    "import time\n",
    "box=soup.find('article', class_='main-article')\n",
    "links=[]\n",
    "for link in box.find_all('a',href=True):\n",
    "    links.append(link['href'])\n",
    "\n",
    "print(links)"
   ]
  },
  {
   "cell_type": "code",
   "execution_count": 6,
   "id": "b878011d",
   "metadata": {},
   "outputs": [],
   "source": [
    "\n",
    "\n",
    "for link in links:\n",
    "    root ='https://subslikescript.com'\n",
    "    website = f'{root}/{link}'\n",
    "    result = requests.get(website)\n",
    "    content= result.text\n",
    "    soup = BeautifulSoup(content, 'lxml')\n",
    "    boxB=soup.find('article', class_='main-article')\n",
    "    title = boxB.find('h1').get_text(strip=True,separator=' ')\n",
    "    script = boxB.find('div', class_='full-script').get_text(strip=True,separator=' ')\n",
    "#     pattern = 'full transcript:(.*)'\n",
    "#     matches  =re.findall(pattern, plot)\n",
    "#     match = re.search(pattern, plot)\n",
    "#     extracted_text_list = match.group(1)\n",
    "    \n",
    "    # Convert the list to a string\n",
    "#     extracted_text_string = ''.join(extracted_text_list)\n",
    "#     generator_expr = (str(element) for element in matches)\n",
    "#     separator = ', '\n",
    "#     result_string = separator.join(generator_expr)\n",
    "#     print(f'{title}:{plot}')\n",
    "    with open(f'{title}.txt', 'w',encoding=\"utf-8\") as file:\n",
    "        file.write(script)\n",
    "        \n",
    "    \n",
    "\n",
    "\n",
    "#     for item in matches:\n",
    "#         print(item)\n",
    "    time.sleep(1)"
   ]
  },
  {
   "cell_type": "code",
   "execution_count": null,
   "id": "6354e53e",
   "metadata": {},
   "outputs": [],
   "source": []
  },
  {
   "cell_type": "code",
   "execution_count": null,
   "id": "13bde958",
   "metadata": {},
   "outputs": [],
   "source": []
  },
  {
   "cell_type": "code",
   "execution_count": null,
   "id": "a59c74b8",
   "metadata": {},
   "outputs": [],
   "source": []
  },
  {
   "cell_type": "code",
   "execution_count": null,
   "id": "8b23655e",
   "metadata": {},
   "outputs": [],
   "source": []
  },
  {
   "cell_type": "code",
   "execution_count": null,
   "id": "773403cf",
   "metadata": {},
   "outputs": [],
   "source": []
  },
  {
   "cell_type": "code",
   "execution_count": null,
   "id": "16e814d2",
   "metadata": {},
   "outputs": [],
   "source": []
  },
  {
   "cell_type": "code",
   "execution_count": null,
   "id": "6519e03d",
   "metadata": {},
   "outputs": [],
   "source": []
  }
 ],
 "metadata": {
  "kernelspec": {
   "display_name": "Python 3 (ipykernel)",
   "language": "python",
   "name": "python3"
  },
  "language_info": {
   "codemirror_mode": {
    "name": "ipython",
    "version": 3
   },
   "file_extension": ".py",
   "mimetype": "text/x-python",
   "name": "python",
   "nbconvert_exporter": "python",
   "pygments_lexer": "ipython3",
   "version": "3.11.5"
  }
 },
 "nbformat": 4,
 "nbformat_minor": 5
}
